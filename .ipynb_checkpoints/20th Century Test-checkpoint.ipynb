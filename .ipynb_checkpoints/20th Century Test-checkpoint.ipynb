{
 "cells": [
  {
   "cell_type": "markdown",
   "id": "457ccf72-8234-427c-ba34-238d6786bab6",
   "metadata": {},
   "source": [
    "## Test Notebook"
   ]
  },
  {
   "cell_type": "code",
   "execution_count": 3,
   "id": "64bb45c2-a0be-46e1-864c-8ffe3456f707",
   "metadata": {},
   "outputs": [],
   "source": [
    "# import libraries\n",
    "\n",
    "import pandas as pd"
   ]
  },
  {
   "cell_type": "code",
   "execution_count": 5,
   "id": "d17f7668-aca1-4dcf-91c6-938158df8d35",
   "metadata": {},
   "outputs": [
    {
     "data": {
      "text/html": [
       "<div>\n",
       "<style scoped>\n",
       "    .dataframe tbody tr th:only-of-type {\n",
       "        vertical-align: middle;\n",
       "    }\n",
       "\n",
       "    .dataframe tbody tr th {\n",
       "        vertical-align: top;\n",
       "    }\n",
       "\n",
       "    .dataframe thead th {\n",
       "        text-align: right;\n",
       "    }\n",
       "</style>\n",
       "<table border=\"1\" class=\"dataframe\">\n",
       "  <thead>\n",
       "    <tr style=\"text-align: right;\">\n",
       "      <th></th>\n",
       "    </tr>\n",
       "  </thead>\n",
       "  <tbody>\n",
       "  </tbody>\n",
       "</table>\n",
       "</div>"
      ],
      "text/plain": [
       "Empty DataFrame\n",
       "Columns: []\n",
       "Index: []"
      ]
     },
     "execution_count": 5,
     "metadata": {},
     "output_type": "execute_result"
    }
   ],
   "source": [
    "# create a new dataframe\n",
    "\n",
    "pd.DataFrame()"
   ]
  },
  {
   "cell_type": "code",
   "execution_count": 15,
   "id": "540a0bcd-5138-4678-835a-97f91ec82776",
   "metadata": {},
   "outputs": [
    {
     "data": {
      "text/html": [
       "<div>\n",
       "<style scoped>\n",
       "    .dataframe tbody tr th:only-of-type {\n",
       "        vertical-align: middle;\n",
       "    }\n",
       "\n",
       "    .dataframe tbody tr th {\n",
       "        vertical-align: top;\n",
       "    }\n",
       "\n",
       "    .dataframe thead th {\n",
       "        text-align: right;\n",
       "    }\n",
       "</style>\n",
       "<table border=\"1\" class=\"dataframe\">\n",
       "  <thead>\n",
       "    <tr style=\"text-align: right;\">\n",
       "      <th></th>\n",
       "      <th>Product</th>\n",
       "      <th>Type</th>\n",
       "      <th>Price</th>\n",
       "    </tr>\n",
       "  </thead>\n",
       "  <tbody>\n",
       "    <tr>\n",
       "      <th>0</th>\n",
       "      <td>nail</td>\n",
       "      <td>hardware</td>\n",
       "      <td>0.10</td>\n",
       "    </tr>\n",
       "    <tr>\n",
       "      <th>1</th>\n",
       "      <td>washer</td>\n",
       "      <td>hardware</td>\n",
       "      <td>0.05</td>\n",
       "    </tr>\n",
       "    <tr>\n",
       "      <th>2</th>\n",
       "      <td>screwdriver</td>\n",
       "      <td>tool</td>\n",
       "      <td>12.99</td>\n",
       "    </tr>\n",
       "    <tr>\n",
       "      <th>3</th>\n",
       "      <td>hammer</td>\n",
       "      <td>tool</td>\n",
       "      <td>14.99</td>\n",
       "    </tr>\n",
       "    <tr>\n",
       "      <th>4</th>\n",
       "      <td>tape</td>\n",
       "      <td>misc</td>\n",
       "      <td>6.99</td>\n",
       "    </tr>\n",
       "  </tbody>\n",
       "</table>\n",
       "</div>"
      ],
      "text/plain": [
       "       Product      Type  Price\n",
       "0         nail  hardware   0.10\n",
       "1       washer  hardware   0.05\n",
       "2  screwdriver      tool  12.99\n",
       "3       hammer      tool  14.99\n",
       "4         tape      misc   6.99"
      ]
     },
     "execution_count": 15,
     "metadata": {},
     "output_type": "execute_result"
    }
   ],
   "source": [
    "data = pd.DataFrame({\"Product\": ['nail', 'washer', 'screwdriver','hammer', 'tape'],\n",
    "                     \"Type\": [\"hardware\", \"hardware\", \"tool\", \"tool\", \"misc\"],\n",
    "                     \"Price\": [0.10,0.05,12.99,14.99,6.99]})\n",
    "data"
   ]
  },
  {
   "cell_type": "code",
   "execution_count": 17,
   "id": "4965b765-2d72-4b17-a4b0-9634a2e80508",
   "metadata": {},
   "outputs": [
    {
     "data": {
      "text/html": [
       "<div>\n",
       "<style scoped>\n",
       "    .dataframe tbody tr th:only-of-type {\n",
       "        vertical-align: middle;\n",
       "    }\n",
       "\n",
       "    .dataframe tbody tr th {\n",
       "        vertical-align: top;\n",
       "    }\n",
       "\n",
       "    .dataframe thead th {\n",
       "        text-align: right;\n",
       "    }\n",
       "</style>\n",
       "<table border=\"1\" class=\"dataframe\">\n",
       "  <thead>\n",
       "    <tr style=\"text-align: right;\">\n",
       "      <th></th>\n",
       "      <th>Product</th>\n",
       "      <th>Type</th>\n",
       "      <th>Price</th>\n",
       "      <th>Sale_Price</th>\n",
       "    </tr>\n",
       "  </thead>\n",
       "  <tbody>\n",
       "    <tr>\n",
       "      <th>0</th>\n",
       "      <td>nail</td>\n",
       "      <td>hardware</td>\n",
       "      <td>0.10</td>\n",
       "      <td>0.080</td>\n",
       "    </tr>\n",
       "    <tr>\n",
       "      <th>1</th>\n",
       "      <td>washer</td>\n",
       "      <td>hardware</td>\n",
       "      <td>0.05</td>\n",
       "      <td>0.040</td>\n",
       "    </tr>\n",
       "    <tr>\n",
       "      <th>2</th>\n",
       "      <td>screwdriver</td>\n",
       "      <td>tool</td>\n",
       "      <td>12.99</td>\n",
       "      <td>10.392</td>\n",
       "    </tr>\n",
       "    <tr>\n",
       "      <th>3</th>\n",
       "      <td>hammer</td>\n",
       "      <td>tool</td>\n",
       "      <td>14.99</td>\n",
       "      <td>11.992</td>\n",
       "    </tr>\n",
       "    <tr>\n",
       "      <th>4</th>\n",
       "      <td>tape</td>\n",
       "      <td>misc</td>\n",
       "      <td>6.99</td>\n",
       "      <td>5.592</td>\n",
       "    </tr>\n",
       "  </tbody>\n",
       "</table>\n",
       "</div>"
      ],
      "text/plain": [
       "       Product      Type  Price  Sale_Price\n",
       "0         nail  hardware   0.10       0.080\n",
       "1       washer  hardware   0.05       0.040\n",
       "2  screwdriver      tool  12.99      10.392\n",
       "3       hammer      tool  14.99      11.992\n",
       "4         tape      misc   6.99       5.592"
      ]
     },
     "execution_count": 17,
     "metadata": {},
     "output_type": "execute_result"
    }
   ],
   "source": [
    "# seasonal sale! all items 20% off! \n",
    "\n",
    "# using a lambda function to create a new column indicating the sale price\n",
    "\n",
    "data['Sale_Price'] = data['Price'].apply(lambda x: x*.80)\n",
    "\n",
    "data"
   ]
  },
  {
   "cell_type": "code",
   "execution_count": 23,
   "id": "0415778c-4645-4be3-8fa0-495116815bf6",
   "metadata": {},
   "outputs": [
    {
     "data": {
      "text/html": [
       "<div>\n",
       "<style scoped>\n",
       "    .dataframe tbody tr th:only-of-type {\n",
       "        vertical-align: middle;\n",
       "    }\n",
       "\n",
       "    .dataframe tbody tr th {\n",
       "        vertical-align: top;\n",
       "    }\n",
       "\n",
       "    .dataframe thead th {\n",
       "        text-align: right;\n",
       "    }\n",
       "</style>\n",
       "<table border=\"1\" class=\"dataframe\">\n",
       "  <thead>\n",
       "    <tr style=\"text-align: right;\">\n",
       "      <th></th>\n",
       "      <th>Product</th>\n",
       "      <th>Type</th>\n",
       "      <th>Price</th>\n",
       "      <th>Sale_Price</th>\n",
       "      <th>Aisle</th>\n",
       "    </tr>\n",
       "  </thead>\n",
       "  <tbody>\n",
       "    <tr>\n",
       "      <th>0</th>\n",
       "      <td>nail</td>\n",
       "      <td>hardware</td>\n",
       "      <td>0.10</td>\n",
       "      <td>0.080</td>\n",
       "      <td>aisle 1</td>\n",
       "    </tr>\n",
       "    <tr>\n",
       "      <th>1</th>\n",
       "      <td>washer</td>\n",
       "      <td>hardware</td>\n",
       "      <td>0.05</td>\n",
       "      <td>0.040</td>\n",
       "      <td>aisle 1</td>\n",
       "    </tr>\n",
       "    <tr>\n",
       "      <th>2</th>\n",
       "      <td>screwdriver</td>\n",
       "      <td>tool</td>\n",
       "      <td>12.99</td>\n",
       "      <td>10.392</td>\n",
       "      <td>aisle 2</td>\n",
       "    </tr>\n",
       "    <tr>\n",
       "      <th>3</th>\n",
       "      <td>hammer</td>\n",
       "      <td>tool</td>\n",
       "      <td>14.99</td>\n",
       "      <td>11.992</td>\n",
       "      <td>aisle 2</td>\n",
       "    </tr>\n",
       "    <tr>\n",
       "      <th>4</th>\n",
       "      <td>tape</td>\n",
       "      <td>misc</td>\n",
       "      <td>6.99</td>\n",
       "      <td>5.592</td>\n",
       "      <td>aisle 3</td>\n",
       "    </tr>\n",
       "  </tbody>\n",
       "</table>\n",
       "</div>"
      ],
      "text/plain": [
       "       Product      Type  Price  Sale_Price    Aisle\n",
       "0         nail  hardware   0.10       0.080  aisle 1\n",
       "1       washer  hardware   0.05       0.040  aisle 1\n",
       "2  screwdriver      tool  12.99      10.392  aisle 2\n",
       "3       hammer      tool  14.99      11.992  aisle 2\n",
       "4         tape      misc   6.99       5.592  aisle 3"
      ]
     },
     "execution_count": 23,
     "metadata": {},
     "output_type": "execute_result"
    }
   ],
   "source": [
    "# oh no! the store has no directory! create a flag based on item type to generate the product aisle!\n",
    "\n",
    "# type: hardware = aisle 1\n",
    "# type: tool = aisle 2\n",
    "# type: misc = aisle 3\n",
    "\n",
    "data['Aisle'] = data['Type'].apply(\n",
    "    lambda x: 'aisle 1' if x == 'hardware' else\n",
    "    ('aisle 2' if x == 'tool' else 'aisle 3'))\n",
    "\n",
    "data"
   ]
  },
  {
   "cell_type": "code",
   "execution_count": null,
   "id": "e0b0dede-c669-4230-b023-bb35ca749a1f",
   "metadata": {},
   "outputs": [],
   "source": []
  }
 ],
 "metadata": {
  "kernelspec": {
   "display_name": "Python [conda env:20th_century]",
   "language": "python",
   "name": "conda-env-20th_century-py"
  },
  "language_info": {
   "codemirror_mode": {
    "name": "ipython",
    "version": 3
   },
   "file_extension": ".py",
   "mimetype": "text/x-python",
   "name": "python",
   "nbconvert_exporter": "python",
   "pygments_lexer": "ipython3",
   "version": "3.12.4"
  }
 },
 "nbformat": 4,
 "nbformat_minor": 5
}
