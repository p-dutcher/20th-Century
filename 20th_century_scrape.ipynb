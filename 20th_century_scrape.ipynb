{
 "cells": [
  {
   "cell_type": "markdown",
   "id": "4448f3f3-794e-4540-a7bd-2a61ac5973e6",
   "metadata": {},
   "source": [
    "## Web Scraping 20th Century"
   ]
  },
  {
   "cell_type": "markdown",
   "id": "3d5dacbb-088c-47fa-b0c6-540019395bf5",
   "metadata": {},
   "source": [
    "## 01. Import Libraries"
   ]
  },
  {
   "cell_type": "code",
   "execution_count": 5,
   "id": "0c40f610-0380-4b74-8739-53b95185d3b5",
   "metadata": {},
   "outputs": [],
   "source": [
    "# import libraries\n",
    "\n",
    "\n",
    "import pandas as pd\n",
    "import time\n",
    "import selenium\n",
    "from selenium import webdriver\n",
    "from webdriver_manager.chrome import ChromeDriverManager\n",
    "from selenium.webdriver.common.by import By\n",
    "from selenium.webdriver.chrome.service import Service\n",
    "from selenium.webdriver.chrome.options import Options\n",
    "import matplotlib.pyplot as plt\n",
    "import os\n",
    "import logging\n",
    "import requests\n",
    "import bs4\n",
    "from bs4 import BeautifulSoup\n",
    "import requests"
   ]
  },
  {
   "cell_type": "markdown",
   "id": "fc113cc2-712e-4512-a9f1-43a3ed5e874f",
   "metadata": {},
   "source": [
    "## 02. Set Up ChromeDriver"
   ]
  },
  {
   "cell_type": "code",
   "execution_count": 8,
   "id": "5e0a0225-df66-4400-8e99-0a636b9c8a71",
   "metadata": {},
   "outputs": [],
   "source": [
    "# Setup chrome options\n",
    "# unsure why this was done in the exercise, minimal explanation\n",
    "\n",
    "chrome_options = Options()\n",
    "chrome_options.add_argument(\"--headless\") # Ensure GUI is off\n",
    "chrome_options.add_argument(\"--no-sandbox\")"
   ]
  },
  {
   "cell_type": "code",
   "execution_count": 10,
   "id": "cf86471b-2348-4781-ae4c-c9a7d78d29a4",
   "metadata": {},
   "outputs": [],
   "source": [
    "# set up driver:\n",
    "\n",
    "service = Service(ChromeDriverManager().install())\n",
    "driver = webdriver.Chrome(service=service)"
   ]
  },
  {
   "cell_type": "markdown",
   "id": "e3bc722e-5075-4504-af3c-d4254aa0d4f0",
   "metadata": {},
   "source": [
    "## 03. Scrape Key Events of the 20th Century"
   ]
  },
  {
   "cell_type": "code",
   "execution_count": 12,
   "id": "6b7fc19a-264d-41f7-97ef-5490b337050e",
   "metadata": {},
   "outputs": [],
   "source": [
    "# project URL: Key Events of the 20th Century\n",
    "\n",
    "# (https://en.wikipedia.org/wiki/Key_events_of_the_20th_century)"
   ]
  },
  {
   "cell_type": "code",
   "execution_count": 13,
   "id": "d9cdad70-6da9-43db-a1a5-82b6f221bda3",
   "metadata": {},
   "outputs": [],
   "source": [
    "# will use beautifulsoup / requests to scrape\n",
    "# this is a better option as we want the entire page instead of a small list / segment\n",
    "\n",
    "# have already imported beautifulsoup/requests"
   ]
  },
  {
   "cell_type": "code",
   "execution_count": 33,
   "id": "40e19935-a486-42ea-8c9f-43cc477c0d3c",
   "metadata": {},
   "outputs": [],
   "source": [
    "# get page's contents:\n",
    "\n",
    "page_url = requests.get(\"https://en.wikipedia.org/wiki/Key_events_of_the_20th_century\")"
   ]
  },
  {
   "cell_type": "code",
   "execution_count": 35,
   "id": "fd8f35e6-090b-42b6-b82f-179fb31b964b",
   "metadata": {},
   "outputs": [
    {
     "name": "stdout",
     "output_type": "stream",
     "text": [
      "<title>Key events of the 20th century - Wikipedia</title>\n"
     ]
    }
   ],
   "source": [
    "# create soup / get title\n",
    "\n",
    "soup = BeautifulSoup(page_url.text, 'html.parser')\n",
    "print(soup.title)"
   ]
  },
  {
   "cell_type": "code",
   "execution_count": 37,
   "id": "11198c35-2e07-4493-91cb-4e57042d0643",
   "metadata": {},
   "outputs": [],
   "source": [
    "# print(soup.text)\n",
    "\n",
    "# this definitely worked to display the full text\n",
    "# changing to a markdown to prevent unnecessary scrolling"
   ]
  },
  {
   "cell_type": "code",
   "execution_count": 39,
   "id": "c5ed2c55-0988-40c2-af7c-ae28a16ce0e5",
   "metadata": {},
   "outputs": [],
   "source": [
    "# creating a new object to store the text:\n",
    "\n",
    "text = soup.get_text()"
   ]
  },
  {
   "cell_type": "code",
   "execution_count": 41,
   "id": "ae89a68e-20d6-450a-bc1b-1fe5c3192061",
   "metadata": {},
   "outputs": [],
   "source": [
    "# define the text encoding\n",
    "\n",
    "text = text.encode('utf-8')"
   ]
  },
  {
   "cell_type": "code",
   "execution_count": 43,
   "id": "1cc4e846-71a0-4926-9663-af38f981c417",
   "metadata": {},
   "outputs": [],
   "source": [
    "# quick google said that utf-8 is now preferred for spatial efficiency\n",
    "# encoding allows computers to display digital data as letters,numbers,characters"
   ]
  },
  {
   "cell_type": "code",
   "execution_count": 45,
   "id": "911b9c4b-1b13-403f-99db-b1d5f7734d88",
   "metadata": {},
   "outputs": [],
   "source": [
    "# save file to working directory\n",
    "\n",
    "with open('20th-Century.txt', 'wb') as f:\n",
    "       f.write(text)"
   ]
  },
  {
   "cell_type": "markdown",
   "id": "60d1d57e-abee-4aac-95d3-ee6ce4282198",
   "metadata": {},
   "source": [
    "## 04. Scrape List of Countries"
   ]
  },
  {
   "cell_type": "code",
   "execution_count": 48,
   "id": "c34bab9e-0460-4ea5-917c-1436f545bdac",
   "metadata": {},
   "outputs": [],
   "source": [
    "# project URL: List of Countries\n",
    "\n",
    "# url: (\"https://simple.m.wikipedia.org/wiki/List_of_countries\""
   ]
  },
  {
   "cell_type": "code",
   "execution_count": 50,
   "id": "339b02c1-132c-419c-acfd-3ec66e01147f",
   "metadata": {},
   "outputs": [],
   "source": [
    "# as we are creating a list, selenium will suffice here\n",
    "# get page contents:\n",
    "\n",
    "list_url = \"https://simple.m.wikipedia.org/wiki/List_of_countries\"\n",
    "driver.get(list_url)"
   ]
  },
  {
   "cell_type": "code",
   "execution_count": 52,
   "id": "f7df2a19-c753-4e52-9b3f-0ccb3dc56152",
   "metadata": {},
   "outputs": [],
   "source": [
    "# elements of interest will be the countries themselves, \n",
    "# after inspecting, the div id appears to be \"mw-content-text\" class = \"mw-body-content\"\n",
    "# another option is \"bodyContent\"\n",
    "\n",
    "#div class = \"mw-content-ltr mw-parser-output\"\n",
    "\n",
    "# going to try \"mw-body-content\" first"
   ]
  },
  {
   "cell_type": "code",
   "execution_count": 54,
   "id": "5998318a-1a63-485a-9542-1720ed000e2f",
   "metadata": {},
   "outputs": [],
   "source": [
    "# use find element to create a collection of the countries:\n",
    "\n",
    "countries_elem = driver.find_elements(by = By.CLASS_NAME, value = 'mw-body-content')"
   ]
  },
  {
   "cell_type": "code",
   "execution_count": 58,
   "id": "aa147959-5c32-4e07-add1-aad267b19b5b",
   "metadata": {},
   "outputs": [],
   "source": [
    "# checking to see if it worked:\n",
    "\n",
    "#countries_elem[0].text"
   ]
  },
  {
   "cell_type": "code",
   "execution_count": 60,
   "id": "7f5b12a5-86dd-432a-8f36-796d15194183",
   "metadata": {},
   "outputs": [],
   "source": [
    "# okay, the intro is still there and i'll need to split these multiple ways"
   ]
  },
  {
   "cell_type": "code",
   "execution_count": 62,
   "id": "011eedfc-16f7-4afe-b3cc-8e4d95f27096",
   "metadata": {},
   "outputs": [],
   "source": [
    "# first splitting at /n\n",
    "\n",
    "# country_list = countries_elem[0].text.split(\"\\n\")"
   ]
  },
  {
   "cell_type": "code",
   "execution_count": 64,
   "id": "ea7a4d41-045f-4b35-a03b-304fee365b7e",
   "metadata": {},
   "outputs": [],
   "source": [
    "# country_list"
   ]
  },
  {
   "cell_type": "code",
   "execution_count": 66,
   "id": "ba60ea42-f3f0-46a3-ad64-e411740e534e",
   "metadata": {},
   "outputs": [],
   "source": [
    "# still need to split at (\"- \")\n",
    "\n",
    "\n",
    "# country_list = countries_elem[0].text.split(\"-\")"
   ]
  },
  {
   "cell_type": "code",
   "execution_count": 68,
   "id": "693fbebb-35f2-4355-9f51-72ea43b16729",
   "metadata": {},
   "outputs": [],
   "source": [
    "# country_list"
   ]
  },
  {
   "cell_type": "code",
   "execution_count": 76,
   "id": "c30a4046-51b2-42fa-8d49-4c84c7bfeb6b",
   "metadata": {},
   "outputs": [],
   "source": [
    "# going to pivot and try another way to get a better result:\n",
    "\n",
    "# driver.find_elements(By.TAG_NAME, …)\n",
    "\n",
    "\n",
    "countries_elem2 = driver.find_elements(by = By.TAG_NAME, value = 'a')\n",
    "\n",
    "# tried printing this, and it returned a list of elements... need to extract the test from each element."
   ]
  },
  {
   "cell_type": "code",
   "execution_count": 88,
   "id": "ff8fc2c6-ae35-4d00-9585-055d8b48a6f7",
   "metadata": {},
   "outputs": [
    {
     "name": "stdout",
     "output_type": "stream",
     "text": [
      "['', '', '', '', '', '', '', '', '', '', '', 'Language', 'Download PDF', 'Watch', 'Change', 'sovereign states', 'Top', '0-9', 'A', 'B', 'C', 'D', 'E', 'F', 'G', 'H', 'I', 'J', 'K', 'L', 'M', 'N', 'O', 'P', 'Q', 'R', 'S', 'T', 'U', 'V', 'W', 'X', 'Y', 'Z', 'change', 'Afghanistan', 'Albania', 'Algeria', 'Andorra', 'Angola', 'Antigua and Barbuda', 'Argentina', 'Armenia', 'Australia', 'Austria', 'Azerbaijan', 'change', 'Bahamas, The', 'Bahrain', 'Bangladesh', 'Barbados', 'Belarus', 'Belgium', 'Belize', 'Benin', 'Bhutan', 'Bolivia', 'Bosnia and Herzegovina', 'Botswana', 'Brazil', 'Brunei', 'Bulgaria', 'Burkina Faso', 'Burundi', 'change', 'Cabo Verde', 'Cambodia', 'Cameroon', 'Canada', 'Central African Republic', 'Chad', 'Chile', 'China', 'Colombia', 'Comoros', 'Congo, Democratic Republic of the', 'Congo, Republic of the', 'Costa Rica', 'Croatia', 'Cuba', 'Cyprus', 'Czech Republic', 'change', 'Denmark', 'Djibouti', 'Dominica', 'Dominican Republic', 'change', 'East Timor', 'Ecuador', 'Egypt', 'El Salvador', 'Equatorial Guinea', 'Eritrea', 'Estonia', 'Eswatini', 'Ethiopia', 'change', 'Fiji', 'Finland', 'France', 'change', 'Gabon', 'Gambia', 'Georgia', 'Germany', 'Ghana', 'Greece', 'Grenada', 'Guatemala', 'Guinea', 'Guinea-Bissau', 'Guyana', 'change', 'Haiti', 'Honduras', 'Hungary', 'change', 'Iceland', 'India', 'Indonesia', 'Iran', 'Iraq', 'Ireland', 'Israel', 'Italy', 'Ivory Coast', 'change', 'Jamaica', 'Japan', 'Jordan', 'change', 'Kazakhstan', 'Kenya', 'Kiribati', 'Korea, North', 'Korea, South', 'Kuwait', 'Kyrgyzstan', 'change', 'Laos', 'Latvia', 'Lebanon', 'Lesotho', 'Liberia', 'Libya', 'Liechtenstein', 'Lithuania', 'Luxembourg', 'change', 'Madagascar', 'Malawi', 'Malaysia', 'Maldives', 'Mali', 'Malta', 'Marshall Islands', 'Mauritania', 'Mauritius', 'Mexico', 'Micronesia', 'Moldova', 'Monaco', 'Mongolia', 'Montenegro', 'Morocco', 'Mozambique', 'Myanmar', 'change', 'Namibia', 'Nauru', 'Nepal', 'Netherlands', 'New Zealand', 'Nicaragua', 'Niger', 'Nigeria', 'North Macedonia', 'Norway', 'change', 'Oman', 'change', 'Pakistan', 'Palau', 'Palestine', 'Panama', 'Papua New Guinea', 'Paraguay', 'Peru', 'Philippines', 'Poland', 'Portugal', 'change', 'Qatar', 'change', 'Romania', 'Russia', 'Rwanda', 'change', 'Saint Kitts and Nevis', 'Saint Lucia', 'Saint Vincent and the Grenadines', 'Samoa', 'San Marino', 'São Tomé and Príncipe', 'Saudi Arabia', 'Senegal', 'Serbia', 'Seychelles', 'Sierra Leone', 'Singapore', 'Slovakia', 'Slovenia', 'Solomon Islands', 'Somalia', 'South Africa', 'South Sudan', 'Spain', 'Sri Lanka', 'Sudan', 'Suriname', 'Sweden', 'Switzerland', 'Syria', 'change', 'Tajikistan', 'Tanzania', 'Thailand', 'Togo', 'Tonga', 'Trinidad and Tobago', 'Tunisia', 'Turkey', 'Turkmenistan', 'Tuvalu', 'change', 'Uganda', 'Ukraine', 'United Arab Emirates', 'United Kingdom', 'United States', 'Uruguay', 'Uzbekistan', 'change', 'Vanuatu', 'Vatican City', 'Holy See', 'Venezuela', 'Vietnam', 'change', 'Yemen', 'change', 'Zambia', 'Zimbabwe', 'change', 'List of states with limited recognition', 'Abkhazia', \"Donetsk People's Republic\", 'Kosovo', 'Liberland', \"Luhansk People's Republic\", 'Northern Cyprus', 'Sahrawi Arab Democratic Republic', 'Sealand', 'Somaliland', 'South Ossetia', 'Taiwan', 'Transnistria', 'change', 'change', 'Akrotiri and Dhekelia', 'American Samoa', 'Anguilla', 'Bermuda', 'British Indian Ocean Territory', 'British Virgin Islands', 'Cayman Islands', 'Cook Islands', 'Falkland Islands', 'Gibraltar', 'Guam', 'Guernsey', 'Isle of Man', 'Jersey', 'Montserrat', 'Niue', 'Northern Mariana Islands', 'Pitcairn Islands', 'Puerto Rico', 'Saint Helena, Ascension and Tristan da Cunha', 'South Georgia and the South Sandwich Islands', 'Tokelau', 'Turks and Caicos Islands', 'United States Minor Outlying Islands', 'United States Virgin Islands', 'change', 'Adjara', 'Anjouan', 'Azad Kashmir', 'Bougainville', 'England', 'Gagauzia', 'Kurdistan', 'Northern Ireland', 'Roraima', 'Scotland', 'South Moluccas', 'Wales', 'West Papua', 'change', 'Åland', 'Aruba', 'Azores', 'Bonaire', 'Canary Islands', 'Ceuta', 'Christmas Island', 'Cocos (Keeling) Islands', 'Curaçao', 'Easter Island', 'Faroe Islands', 'French Guiana', 'French Polynesia', 'French Southern and Antarctic Lands', 'Galapagos Islands', 'Greenland', 'Guadeloupe', 'Hong Kong', 'Macau', 'Madeira', 'Martinique', 'Mayotte', 'Melilla', 'New Caledonia', 'Norfolk Island', 'Réunion', 'Saba', 'Saint Barthelemy', 'Saint Martin', 'Saint Pierre and Miquelon', 'Sint Eustatius', 'Sint Maarten', 'Svalbard and Jan Mayen', 'change', 'Antarctica', 'Sovereign Military Order of Malta', '', 'Last edited 7 days ago by Auntof6', '', '', '', '', '', '', '', '', '', '', '', '', '', '', '', '', '', '', '', '', '', '', '', '', '', '', '', '', '', '', '', '', '', '', '', '', '', '', '', '', '', '', '', '', '', '', '', '', '', '', '', '', '', '', '', '', '', '', '', '', '', '', '', '', '', '', '', '', '', '', '', '', '', '', '', '', '', '', '', '', '', '', '', '', '', '', '', '', '', '', '', '', '', '', '', '', '', '', '', '', '', '', '', '', '', '', '', '', '', '', '', '', '', '', '', '', '', '', '', '', '', '', '', '', '', '', '', '', '', '', '', '', '', '', '', '', '', '', '', '', '', '', '', '', '', '', '', '', '', '', '', '', '', '', '', '', '', '', '', '', '', '', '', '', '', '', '', '', '', '', '', '', '', '', '', '', '', '', '', '', '', '', '', '', '', '', '', '', '', '', '', '', '', '', '', '', '', '', '', '', '', '', '', '', '', '', '', '', '', '', '', '', '', '', '', '', '', '', '', '', '', '', 'CC BY-SA 4.0', 'Privacy policy', '', '', '', '', '', '', 'Terms of Use', 'Desktop', '']\n"
     ]
    }
   ],
   "source": [
    "# this output is a lot better, lets create a new dataframe and populate it with this outcome:\n",
    "\n",
    "countrieslist = [element.text for element in countries_elem2]\n",
    "    \n",
    "print(countrieslist)"
   ]
  },
  {
   "cell_type": "code",
   "execution_count": 94,
   "id": "375e5ba5-ed18-4cdd-a8a5-c8cb6d791bc9",
   "metadata": {},
   "outputs": [
    {
     "name": "stdout",
     "output_type": "stream",
     "text": [
      "['Language', 'Download PDF', 'Watch', 'Change', 'sovereign states', 'Top', '0-9', 'change', 'Afghanistan', 'Albania', 'Algeria', 'Andorra', 'Angola', 'Antigua and Barbuda', 'Argentina', 'Armenia', 'Australia', 'Austria', 'Azerbaijan', 'change', 'Bahamas, The', 'Bahrain', 'Bangladesh', 'Barbados', 'Belarus', 'Belgium', 'Belize', 'Benin', 'Bhutan', 'Bolivia', 'Bosnia and Herzegovina', 'Botswana', 'Brazil', 'Brunei', 'Bulgaria', 'Burkina Faso', 'Burundi', 'change', 'Cabo Verde', 'Cambodia', 'Cameroon', 'Canada', 'Central African Republic', 'Chad', 'Chile', 'China', 'Colombia', 'Comoros', 'Congo, Democratic Republic of the', 'Congo, Republic of the', 'Costa Rica', 'Croatia', 'Cuba', 'Cyprus', 'Czech Republic', 'change', 'Denmark', 'Djibouti', 'Dominica', 'Dominican Republic', 'change', 'East Timor', 'Ecuador', 'Egypt', 'El Salvador', 'Equatorial Guinea', 'Eritrea', 'Estonia', 'Eswatini', 'Ethiopia', 'change', 'Fiji', 'Finland', 'France', 'change', 'Gabon', 'Gambia', 'Georgia', 'Germany', 'Ghana', 'Greece', 'Grenada', 'Guatemala', 'Guinea', 'Guinea-Bissau', 'Guyana', 'change', 'Haiti', 'Honduras', 'Hungary', 'change', 'Iceland', 'India', 'Indonesia', 'Iran', 'Iraq', 'Ireland', 'Israel', 'Italy', 'Ivory Coast', 'change', 'Jamaica', 'Japan', 'Jordan', 'change', 'Kazakhstan', 'Kenya', 'Kiribati', 'Korea, North', 'Korea, South', 'Kuwait', 'Kyrgyzstan', 'change', 'Laos', 'Latvia', 'Lebanon', 'Lesotho', 'Liberia', 'Libya', 'Liechtenstein', 'Lithuania', 'Luxembourg', 'change', 'Madagascar', 'Malawi', 'Malaysia', 'Maldives', 'Mali', 'Malta', 'Marshall Islands', 'Mauritania', 'Mauritius', 'Mexico', 'Micronesia', 'Moldova', 'Monaco', 'Mongolia', 'Montenegro', 'Morocco', 'Mozambique', 'Myanmar', 'change', 'Namibia', 'Nauru', 'Nepal', 'Netherlands', 'New Zealand', 'Nicaragua', 'Niger', 'Nigeria', 'North Macedonia', 'Norway', 'change', 'Oman', 'change', 'Pakistan', 'Palau', 'Palestine', 'Panama', 'Papua New Guinea', 'Paraguay', 'Peru', 'Philippines', 'Poland', 'Portugal', 'change', 'Qatar', 'change', 'Romania', 'Russia', 'Rwanda', 'change', 'Saint Kitts and Nevis', 'Saint Lucia', 'Saint Vincent and the Grenadines', 'Samoa', 'San Marino', 'São Tomé and Príncipe', 'Saudi Arabia', 'Senegal', 'Serbia', 'Seychelles', 'Sierra Leone', 'Singapore', 'Slovakia', 'Slovenia', 'Solomon Islands', 'Somalia', 'South Africa', 'South Sudan', 'Spain', 'Sri Lanka', 'Sudan', 'Suriname', 'Sweden', 'Switzerland', 'Syria', 'change', 'Tajikistan', 'Tanzania', 'Thailand', 'Togo', 'Tonga', 'Trinidad and Tobago', 'Tunisia', 'Turkey', 'Turkmenistan', 'Tuvalu', 'change', 'Uganda', 'Ukraine', 'United Arab Emirates', 'United Kingdom', 'United States', 'Uruguay', 'Uzbekistan', 'change', 'Vanuatu', 'Vatican City', 'Holy See', 'Venezuela', 'Vietnam', 'change', 'Yemen', 'change', 'Zambia', 'Zimbabwe', 'change', 'List of states with limited recognition', 'Abkhazia', \"Donetsk People's Republic\", 'Kosovo', 'Liberland', \"Luhansk People's Republic\", 'Northern Cyprus', 'Sahrawi Arab Democratic Republic', 'Sealand', 'Somaliland', 'South Ossetia', 'Taiwan', 'Transnistria', 'change', 'change', 'Akrotiri and Dhekelia', 'American Samoa', 'Anguilla', 'Bermuda', 'British Indian Ocean Territory', 'British Virgin Islands', 'Cayman Islands', 'Cook Islands', 'Falkland Islands', 'Gibraltar', 'Guam', 'Guernsey', 'Isle of Man', 'Jersey', 'Montserrat', 'Niue', 'Northern Mariana Islands', 'Pitcairn Islands', 'Puerto Rico', 'Saint Helena, Ascension and Tristan da Cunha', 'South Georgia and the South Sandwich Islands', 'Tokelau', 'Turks and Caicos Islands', 'United States Minor Outlying Islands', 'United States Virgin Islands', 'change', 'Adjara', 'Anjouan', 'Azad Kashmir', 'Bougainville', 'England', 'Gagauzia', 'Kurdistan', 'Northern Ireland', 'Roraima', 'Scotland', 'South Moluccas', 'Wales', 'West Papua', 'change', 'Åland', 'Aruba', 'Azores', 'Bonaire', 'Canary Islands', 'Ceuta', 'Christmas Island', 'Cocos (Keeling) Islands', 'Curaçao', 'Easter Island', 'Faroe Islands', 'French Guiana', 'French Polynesia', 'French Southern and Antarctic Lands', 'Galapagos Islands', 'Greenland', 'Guadeloupe', 'Hong Kong', 'Macau', 'Madeira', 'Martinique', 'Mayotte', 'Melilla', 'New Caledonia', 'Norfolk Island', 'Réunion', 'Saba', 'Saint Barthelemy', 'Saint Martin', 'Saint Pierre and Miquelon', 'Sint Eustatius', 'Sint Maarten', 'Svalbard and Jan Mayen', 'change', 'Antarctica', 'Sovereign Military Order of Malta', 'Last edited 7 days ago by Auntof6', 'CC BY-SA 4.0', 'Privacy policy', 'Terms of Use', 'Desktop']\n"
     ]
    }
   ],
   "source": [
    "# need to remove extra entries...\n",
    "# remove any entries if the length of the string >= 1\n",
    "\n",
    "countries_1 = [element.text for element in countries_elem2 if len(element.text) > 1]\n",
    "\n",
    "print(countries_1)"
   ]
  },
  {
   "cell_type": "code",
   "execution_count": 120,
   "id": "6128d283-dea0-4c04-8c50-d10c3ecae9c6",
   "metadata": {},
   "outputs": [
    {
     "name": "stdout",
     "output_type": "stream",
     "text": [
      "['Language', 'Download PDF', 'Watch', 'sovereign states', 'Top', '0-9', 'Afghanistan', 'Albania', 'Algeria', 'Andorra', 'Angola', 'Antigua and Barbuda', 'Argentina', 'Armenia', 'Australia', 'Austria', 'Azerbaijan', 'Bahamas, The', 'Bahrain', 'Bangladesh', 'Barbados', 'Belarus', 'Belgium', 'Belize', 'Benin', 'Bhutan', 'Bolivia', 'Bosnia and Herzegovina', 'Botswana', 'Brazil', 'Brunei', 'Bulgaria', 'Burkina Faso', 'Burundi', 'Cabo Verde', 'Cambodia', 'Cameroon', 'Canada', 'Central African Republic', 'Chad', 'Chile', 'China', 'Colombia', 'Comoros', 'Congo, Democratic Republic of the', 'Congo, Republic of the', 'Costa Rica', 'Croatia', 'Cuba', 'Cyprus', 'Czech Republic', 'Denmark', 'Djibouti', 'Dominica', 'Dominican Republic', 'East Timor', 'Ecuador', 'Egypt', 'El Salvador', 'Equatorial Guinea', 'Eritrea', 'Estonia', 'Eswatini', 'Ethiopia', 'Fiji', 'Finland', 'France', 'Gabon', 'Gambia', 'Georgia', 'Germany', 'Ghana', 'Greece', 'Grenada', 'Guatemala', 'Guinea', 'Guinea-Bissau', 'Guyana', 'Haiti', 'Honduras', 'Hungary', 'Iceland', 'India', 'Indonesia', 'Iran', 'Iraq', 'Ireland', 'Israel', 'Italy', 'Ivory Coast', 'Jamaica', 'Japan', 'Jordan', 'Kazakhstan', 'Kenya', 'Kiribati', 'Korea, North', 'Korea, South', 'Kuwait', 'Kyrgyzstan', 'Laos', 'Latvia', 'Lebanon', 'Lesotho', 'Liberia', 'Libya', 'Liechtenstein', 'Lithuania', 'Luxembourg', 'Madagascar', 'Malawi', 'Malaysia', 'Maldives', 'Mali', 'Malta', 'Marshall Islands', 'Mauritania', 'Mauritius', 'Mexico', 'Micronesia', 'Moldova', 'Monaco', 'Mongolia', 'Montenegro', 'Morocco', 'Mozambique', 'Myanmar', 'Namibia', 'Nauru', 'Nepal', 'Netherlands', 'New Zealand', 'Nicaragua', 'Niger', 'Nigeria', 'North Macedonia', 'Norway', 'Oman', 'Pakistan', 'Palau', 'Palestine', 'Panama', 'Papua New Guinea', 'Paraguay', 'Peru', 'Philippines', 'Poland', 'Portugal', 'Qatar', 'Romania', 'Russia', 'Rwanda', 'Saint Kitts and Nevis', 'Saint Lucia', 'Saint Vincent and the Grenadines', 'Samoa', 'San Marino', 'São Tomé and Príncipe', 'Saudi Arabia', 'Senegal', 'Serbia', 'Seychelles', 'Sierra Leone', 'Singapore', 'Slovakia', 'Slovenia', 'Solomon Islands', 'Somalia', 'South Africa', 'South Sudan', 'Spain', 'Sri Lanka', 'Sudan', 'Suriname', 'Sweden', 'Switzerland', 'Syria', 'Tajikistan', 'Tanzania', 'Thailand', 'Togo', 'Tonga', 'Trinidad and Tobago', 'Tunisia', 'Turkey', 'Turkmenistan', 'Tuvalu', 'Uganda', 'Ukraine', 'United Arab Emirates', 'United Kingdom', 'United States', 'Uruguay', 'Uzbekistan', 'Vanuatu', 'Vatican City', 'Holy See', 'Venezuela', 'Vietnam', 'Yemen', 'Zambia', 'Zimbabwe', 'List of states with limited recognition', 'Abkhazia', \"Donetsk People's Republic\", 'Kosovo', 'Liberland', \"Luhansk People's Republic\", 'Northern Cyprus', 'Sahrawi Arab Democratic Republic', 'Sealand', 'Somaliland', 'South Ossetia', 'Taiwan', 'Transnistria', 'Akrotiri and Dhekelia', 'American Samoa', 'Anguilla', 'Bermuda', 'British Indian Ocean Territory', 'British Virgin Islands', 'Cayman Islands', 'Cook Islands', 'Falkland Islands', 'Gibraltar', 'Guam', 'Guernsey', 'Isle of Man', 'Jersey', 'Montserrat', 'Niue', 'Northern Mariana Islands', 'Pitcairn Islands', 'Puerto Rico', 'Saint Helena, Ascension and Tristan da Cunha', 'South Georgia and the South Sandwich Islands', 'Tokelau', 'Turks and Caicos Islands', 'United States Minor Outlying Islands', 'United States Virgin Islands', 'Adjara', 'Anjouan', 'Azad Kashmir', 'Bougainville', 'England', 'Gagauzia', 'Kurdistan', 'Northern Ireland', 'Roraima', 'Scotland', 'South Moluccas', 'Wales', 'West Papua', 'Åland', 'Aruba', 'Azores', 'Bonaire', 'Canary Islands', 'Ceuta', 'Christmas Island', 'Cocos (Keeling) Islands', 'Curaçao', 'Easter Island', 'Faroe Islands', 'French Guiana', 'French Polynesia', 'French Southern and Antarctic Lands', 'Galapagos Islands', 'Greenland', 'Guadeloupe', 'Hong Kong', 'Macau', 'Madeira', 'Martinique', 'Mayotte', 'Melilla', 'New Caledonia', 'Norfolk Island', 'Réunion', 'Saba', 'Saint Barthelemy', 'Saint Martin', 'Saint Pierre and Miquelon', 'Sint Eustatius', 'Sint Maarten', 'Svalbard and Jan Mayen', 'Antarctica', 'Sovereign Military Order of Malta', 'Last edited 7 days ago by Auntof6', 'CC BY-SA 4.0', 'Privacy policy', 'Terms of Use', 'Desktop']\n"
     ]
    }
   ],
   "source": [
    "# need to remove anything with 'change' or 'Change'\n",
    "\n",
    "countries_2 = [element for element in countries_1 if\n",
    "               element != 'Change' and\n",
    "              element != 'change']\n",
    "\n",
    "print(countries_2)\n"
   ]
  },
  {
   "cell_type": "code",
   "execution_count": 122,
   "id": "08987a9e-be3c-4a7b-af36-14e2ec6a22bb",
   "metadata": {},
   "outputs": [
    {
     "name": "stdout",
     "output_type": "stream",
     "text": [
      "293\n"
     ]
    }
   ],
   "source": [
    "print(len(countries_2))"
   ]
  },
  {
   "cell_type": "code",
   "execution_count": 124,
   "id": "1c5874ed-ba51-48be-9ea4-842d1b95fb01",
   "metadata": {},
   "outputs": [],
   "source": [
    "# still have quite a few unnecessary entries... will continue to work on this."
   ]
  },
  {
   "cell_type": "code",
   "execution_count": null,
   "id": "f9dbe527-56c7-4167-a2d8-1636d0188119",
   "metadata": {},
   "outputs": [],
   "source": [
    "\n"
   ]
  },
  {
   "cell_type": "code",
   "execution_count": null,
   "id": "7973b8fe-431a-452f-bb2f-e64430dc3887",
   "metadata": {},
   "outputs": [],
   "source": []
  }
 ],
 "metadata": {
  "kernelspec": {
   "display_name": "Python [conda env:20th_century]",
   "language": "python",
   "name": "conda-env-20th_century-py"
  },
  "language_info": {
   "codemirror_mode": {
    "name": "ipython",
    "version": 3
   },
   "file_extension": ".py",
   "mimetype": "text/x-python",
   "name": "python",
   "nbconvert_exporter": "python",
   "pygments_lexer": "ipython3",
   "version": "3.12.4"
  }
 },
 "nbformat": 4,
 "nbformat_minor": 5
}
